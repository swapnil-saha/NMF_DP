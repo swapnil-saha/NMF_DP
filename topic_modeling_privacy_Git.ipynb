{
 "cells": [
  {
   "cell_type": "markdown",
   "metadata": {},
   "source": [
    "# Library"
   ]
  },
  {
   "cell_type": "code",
   "execution_count": 1,
   "metadata": {},
   "outputs": [],
   "source": [
    "import numpy as np\n",
    "from sklearn.preprocessing import normalize\n",
    "from numpy import linalg as LA\n",
    "import matplotlib.pyplot as plt\n",
    "import matplotlib.image as mpimg\n",
    "\n",
    "from time import time\n",
    "import matplotlib.pyplot as plt\n",
    "from sklearn.feature_extraction.text import TfidfVectorizer, CountVectorizer\n",
    "from sklearn.decomposition import NMF, LatentDirichletAllocation\n",
    "from sklearn.datasets import fetch_20newsgroups\n",
    "import pandas as pd \n",
    "from sklearn.utils.extmath import randomized_svd \n",
    "import sys\n",
    "from tqdm import tqdm\n",
    "import scipy\n",
    "from PIL import Image\n",
    "#import pdb; pdb.set_trace()"
   ]
  },
  {
   "cell_type": "markdown",
   "metadata": {},
   "source": [
    "# Dataset"
   ]
  },
  {
   "cell_type": "code",
   "execution_count": 2,
   "metadata": {},
   "outputs": [
    {
     "name": "stdout",
     "output_type": "stream",
     "text": [
      "Loaded 4551 X 10285 document-term matrix\n"
     ]
    }
   ],
   "source": [
    "# Documents are saves in the TF-IDF format\n",
    "\n",
    "import joblib\n",
    "(A,terms,_) = joblib.load( \"dataset/articles-tfidf.pkl\" )\n",
    "print( \"Loaded %d X %d document-term matrix\" % (A.shape[0], A.shape[1]) )\n",
    "A=A.toarray()"
   ]
  },
  {
   "cell_type": "markdown",
   "metadata": {},
   "source": [
    "# Constant Value"
   ]
  },
  {
   "cell_type": "code",
   "execution_count": 3,
   "metadata": {},
   "outputs": [],
   "source": [
    "M=0.2 \n",
    "eta_H =1e-3 # convergence check for H upadte\n",
    "max_epoch_H=50\n",
    "eta_W =1e-4 # convergence check for W update\n",
    "max_epoch_W =200 \n"
   ]
  },
  {
   "cell_type": "markdown",
   "metadata": {},
   "source": [
    "# Function"
   ]
  },
  {
   "cell_type": "code",
   "execution_count": 4,
   "metadata": {},
   "outputs": [],
   "source": [
    "def nonnegative_projection(A):\n",
    "    A[A<0]=0\n",
    "    return A"
   ]
  },
  {
   "cell_type": "code",
   "execution_count": 5,
   "metadata": {},
   "outputs": [],
   "source": [
    "def update_H_R(W,H,V,N,alpha_h):\n",
    "    dH=(np.matmul(np.matmul(W.T,W),H)-np.matmul(W.T,(V)))/N\n",
    "    H_n=H-alpha_h*dH;  \n",
    "    H_n=nonnegative_projection(H_n)\n",
    "    H_n=my_normalize_matrix_W(H_n)\n",
    "    return H_n"
   ]
  },
  {
   "cell_type": "code",
   "execution_count": 6,
   "metadata": {},
   "outputs": [],
   "source": [
    "def update_W(W,At,Bt,alpha_W):\n",
    "    dW=np.matmul(W,At)-Bt\n",
    "    W_n=W-alpha_W*dW \n",
    "    W_n=nonnegative_projection(W_n)\n",
    "    W_n=my_normalize_matrix_W(W_n)\n",
    "    return W_n\n",
    "    "
   ]
  },
  {
   "cell_type": "code",
   "execution_count": 7,
   "metadata": {},
   "outputs": [],
   "source": [
    "def my_normalize_matrix_W(A):\n",
    "    nrms = np.sqrt(np.sum(A** 2, axis = 0))\n",
    "    \n",
    "    max_nrms=np.where(nrms<1,1,nrms)\n",
    "\n",
    "    A= A/ max_nrms\n",
    "    return A\n",
    "    "
   ]
  },
  {
   "cell_type": "code",
   "execution_count": 8,
   "metadata": {},
   "outputs": [],
   "source": [
    "def loss_calc_h(W,H,V):\n",
    "    loss=0.5*LA.norm(V-np.matmul(W,H),ord='fro')**2\n",
    "    return loss"
   ]
  },
  {
   "cell_type": "code",
   "execution_count": 9,
   "metadata": {},
   "outputs": [],
   "source": [
    "def loass_calc_W(W,At,Bt):\n",
    "    loss=0.5*np.trace(W.T @ W @ At) - np.trace(W.T @ Bt)\n",
    "    return loss"
   ]
  },
  {
   "cell_type": "code",
   "execution_count": 10,
   "metadata": {},
   "outputs": [],
   "source": [
    "def objective_calc(W,H,V):\n",
    "    loss=0.5*LA.norm((V-np.matmul(W,H)),ord='fro')**2\n",
    "    return loss"
   ]
  },
  {
   "cell_type": "code",
   "execution_count": 11,
   "metadata": {},
   "outputs": [],
   "source": [
    "def early_stop(loss_prev,loss_current,eta):\n",
    "\n",
    "    if ((loss_current-loss_prev)/loss_prev) < eta:\n",
    "        return 1\n",
    "    else:\n",
    "        return 0\n",
    "    "
   ]
  },
  {
   "cell_type": "code",
   "execution_count": 12,
   "metadata": {},
   "outputs": [],
   "source": [
    "def optimize_H_R(W,H,V,N,eta_h,max_epoch_h,alpha_h):\n",
    "    epoch=0\n",
    "    while(1):\n",
    "        epoch+=1\n",
    "        loss_prev=loss_calc_h(W,H,V)/N\n",
    "        #print(f'loss_prev {loss_prev.shape}')\n",
    "        H=update_H_R(W,H,V,N,alpha_h)\n",
    "        loss_current=loss_calc_h(W,H,V)/N\n",
    "        if early_stop(loss_prev,loss_current,eta_h) or (epoch>max_epoch_h):\n",
    "            break     \n",
    "    return H"
   ]
  },
  {
   "cell_type": "code",
   "execution_count": 13,
   "metadata": {},
   "outputs": [],
   "source": [
    "def optimize_W(W,At,Bt,eta_W,max_epoch_W,alpha_W):\n",
    "    epoch=0\n",
    "    while(1):\n",
    "        epoch+=1\n",
    "        loss_prev=loass_calc_W(W,At,Bt)\n",
    "        W=update_W(W,At,Bt,alpha_W)\n",
    "        loss_current=loass_calc_W(W,At,Bt)\n",
    "        if early_stop(loss_prev,loss_current,eta_W) or (epoch>max_epoch_W) :            \n",
    "             break\n",
    "    return W"
   ]
  },
  {
   "cell_type": "code",
   "execution_count": 14,
   "metadata": {},
   "outputs": [],
   "source": [
    "def call_noise(epsilon,delta,Delf,m,n):\n",
    "    sigma = (Delf/epsilon) * np.sqrt(2 * np.log(1.25/delta))\n",
    "    noise = sigma * np.random.randn(m,n)\n",
    "    return noise"
   ]
  },
  {
   "cell_type": "code",
   "execution_count": 15,
   "metadata": {},
   "outputs": [],
   "source": [
    "def overall_epsion(K,Delf,epsilon,delta):\n",
    "    sigma=calc_sigma(Delf,epsilon,delta)\n",
    "    optimum_alpha=calc_optimum_alpha(K,sigma,delta,Delf)\n",
    "    overall_epsilon=calc_overall_epsilon(optimum_alpha,K,sigma,delta,Delf)\n",
    "    return overall_epsilon\n",
    "\n",
    "def calc_sigma(Delf,epsilon,delta):\n",
    "    sigma = (Delf/epsilon) * np.sqrt(2 * np.log(1.25/delta))\n",
    "    return sigma\n",
    "\n",
    "def calc_optimum_alpha(K,sigma,delta,Delf):\n",
    "    optimum_alpha=1+np.sqrt(((sigma**2)/(K*Delf**2))*np.log(1/delta))\n",
    "    return optimum_alpha\n",
    "\n",
    "def calc_overall_epsilon(alpha,K,sigma,delta,Delf):\n",
    "    overall_epsilon=((alpha*K*Delf**2)/(sigma**2))+((np.log(1/delta))/(alpha-1))\n",
    "    return overall_epsilon"
   ]
  },
  {
   "cell_type": "code",
   "execution_count": 16,
   "metadata": {},
   "outputs": [],
   "source": [
    "def plot_top_words(W, feature_names, n_top_words, title,text):\n",
    "    fig, axes = plt.subplots(2, 4, figsize=(30, 15), sharex=True)\n",
    "    axes = axes.flatten()\n",
    "    #print(model.components_.shape)\n",
    "    for topic_idx, topic in enumerate(W.T):\n",
    "        #print(topic_idx)\n",
    "        #print(topic)\n",
    "        top_features_ind = topic.argsort()[:-n_top_words - 1:-1]\n",
    "        top_features = [feature_names[i] for i in top_features_ind]\n",
    "        weights = topic[top_features_ind]*10\n",
    "\n",
    "        ax = axes[topic_idx]\n",
    "        ax.barh(top_features, weights, height=0.7)\n",
    "        ax.set_title(f'Topic {topic_idx +1}',\n",
    "                     fontdict={'fontsize': 30})\n",
    "        ax.invert_yaxis()\n",
    "        ax.tick_params(axis='both', which='major', labelsize=20)\n",
    "        for i in 'top right left'.split():\n",
    "            ax.spines[i].set_visible(False)\n",
    "        #fig.suptitle(title, fontsize=40)\n",
    "\n",
    "    plt.subplots_adjust(top=0.90, bottom=0.05, wspace=0.90, hspace=0.3)\n",
    "    plt.savefig(text, bbox_inches='tight')\n",
    "    plt.show()"
   ]
  },
  {
   "cell_type": "code",
   "execution_count": 17,
   "metadata": {},
   "outputs": [],
   "source": [
    "def norm(x):\n",
    "    y=np.sqrt(np.sum(x**2))\n",
    "    return y"
   ]
  },
  {
   "cell_type": "code",
   "execution_count": 18,
   "metadata": {},
   "outputs": [],
   "source": [
    "# From scikit-learn Initialization\n",
    "\n",
    "def initialization(V,k):\n",
    "    \n",
    "    U, S, V_new = randomized_svd(V, k, random_state=1)\n",
    "    W = np.zeros_like(U)\n",
    "    H = np.zeros_like(V_new)\n",
    "    W[:, 0] = np.sqrt(S[0]) * np.abs(U[:, 0])\n",
    "    H[0, :] = np.sqrt(S[0]) * np.abs(V_new[0, :])\n",
    "    \n",
    "    for j in range(1, k):\n",
    "        x, y = U[:, j], V_new[j, :]\n",
    "\n",
    "        # extract positive and negative parts of column vectors\n",
    "        x_p, y_p = np.maximum(x, 0), np.maximum(y, 0)\n",
    "        x_n, y_n = np.abs(np.minimum(x, 0)), np.abs(np.minimum(y, 0))\n",
    "\n",
    "        # and their norms\n",
    "        x_p_nrm, y_p_nrm = norm(x_p), norm(y_p)\n",
    "        x_n_nrm, y_n_nrm = norm(x_n), norm(y_n)\n",
    "\n",
    "        m_p, m_n = x_p_nrm * y_p_nrm, x_n_nrm * y_n_nrm\n",
    "\n",
    "        # choose update\n",
    "        if m_p > m_n:\n",
    "            u = x_p / x_p_nrm\n",
    "            v = y_p / y_p_nrm\n",
    "            sigma = m_p\n",
    "        else:\n",
    "            u = x_n / x_n_nrm\n",
    "            v = y_n / y_n_nrm\n",
    "            sigma = m_n\n",
    "\n",
    "        lbd = np.sqrt(S[j] * sigma)\n",
    "        W[:, j] = lbd * u\n",
    "        H[j, :] = lbd * v\n",
    "\n",
    "        \n",
    "    W=nonnegative_projection(W)\n",
    "    H=nonnegative_projection(H)\n",
    "    \n",
    "    return W,H"
   ]
  },
  {
   "cell_type": "code",
   "execution_count": 19,
   "metadata": {},
   "outputs": [],
   "source": [
    "def call_noise(epsilon,delta,Delf,m,n):\n",
    "    sigma = (Delf/epsilon) * np.sqrt(2 * np.log(1.25/delta))\n",
    "    noise = sigma * np.random.randn(m,n)\n",
    "    return noise"
   ]
  },
  {
   "cell_type": "markdown",
   "metadata": {},
   "source": [
    "# Train"
   ]
  },
  {
   "cell_type": "code",
   "execution_count": 20,
   "metadata": {},
   "outputs": [],
   "source": [
    "def nmf(V,K,training_parameter):\n",
    "    \n",
    "    \n",
    "    epoch_num=training_parameter[\"epoch_num\"]\n",
    "    topic_num=training_parameter[\"topic_num\"]\n",
    "    alpha_W=training_parameter[\"alpha_W\"] \n",
    "    alpha_H=training_parameter[\"alpha_H\"]\n",
    "\n",
    "    M=training_parameter[\"M\"]\n",
    "    eta_H=training_parameter[\"eta_H\"]\n",
    "    max_epoch_h=training_parameter[\"max_epoch_H\"]\n",
    "    eta_W =training_parameter[\"eta_W\"]\n",
    "    max_epoch_W=training_parameter[\"max_epoch_W\"] \n",
    "    \n",
    "    D=V.shape[0] # Raw data dimension\n",
    "    N=V.shape[1] # Number of documents\n",
    "    \n",
    "    W,H=initialization(V,K)\n",
    "    W=my_normalize_matrix_W(W)\n",
    "    H=my_normalize_matrix_W(H)\n",
    "    At=np.zeros((K,K))\n",
    "    Bt=np.zeros((D,K))\n",
    "    \n",
    "    loss=np.zeros(epoch_num)\n",
    "\n",
    "    for idx,epoch in enumerate (tqdm(range (epoch_num))):\n",
    "        \n",
    "        loss[idx]=objective_calc(W,H,V)/N\n",
    "        \n",
    "        H=optimize_H_R(W,H,V,N,eta_H,max_epoch_H,alpha_H)\n",
    "        \n",
    "\n",
    "        At= (H @ H.T)/N\n",
    "        Bt=((V) @ H.T)/N\n",
    "        \n",
    "        W=optimize_W(W,At,Bt,eta_W,max_epoch_W,alpha_W)\n",
    "\n",
    "    return W,H,loss\n",
    "    "
   ]
  },
  {
   "cell_type": "code",
   "execution_count": 21,
   "metadata": {},
   "outputs": [
    {
     "name": "stderr",
     "output_type": "stream",
     "text": [
      "100%|██████████████████████████████████████████████████████████████████████████████| 1000/1000 [36:12<00:00,  2.17s/it]\n"
     ]
    }
   ],
   "source": [
    "epoch_num=1000\n",
    "topic_num=8\n",
    "alpha_W=20 # learning rate\n",
    "alpha_H=20 # learning rate\n",
    "\n",
    "M=0.2 \n",
    "eta_H =1e-3 # convergence check for H upadte\n",
    "max_epoch_H=50\n",
    "eta_W =1e-4 # convergence check for W update\n",
    "max_epoch_W =200 \n",
    "\n",
    "\n",
    "training_parameter={\"epoch_num\":epoch_num,\n",
    "                   \"alpha_W\":alpha_W,\n",
    "                   \"alpha_H\":alpha_H,\n",
    "                   \"eta_H\":eta_H,\n",
    "                   \"eta_W\":eta_W,\n",
    "                   \"max_epoch_H\":max_epoch_H,\n",
    "                   \"max_epoch_W\":max_epoch_W,\n",
    "                   \"M\":M,\n",
    "                   \"topic_num\":topic_num\n",
    "                   }\n",
    "\n",
    "W,H,loss=nmf(A.T,topic_num,training_parameter)"
   ]
  },
  {
   "cell_type": "code",
   "execution_count": 22,
   "metadata": {},
   "outputs": [
    {
     "data": {
      "image/png": "[encoded data removed]",
      "text/plain": [
       "<Figure size 432x288 with 1 Axes>"
      ]
     },
     "metadata": {
      "needs_background": "light"
     },
     "output_type": "display_data"
    }
   ],
   "source": [
    "plt.semilogy(range(len(loss)),loss)\n",
    "plt.xlabel(\"Epoch\")\n",
    "plt.ylabel(\"Loss\")\n",
    "plt.title(\"Non-Private\")\n",
    "plt.grid(False)\n",
    "\n",
    "# plt.savefig(\"without_privacy.pdf\", bbox_inches='tight')"
   ]
  },
  {
   "cell_type": "markdown",
   "metadata": {},
   "source": [
    "# Topic show"
   ]
  },
  {
   "cell_type": "code",
   "execution_count": 23,
   "metadata": {},
   "outputs": [
    {
     "data": {
      "image/png": "[encoded data removed]",
      "text/plain": [
       "<Figure size 2160x1080 with 8 Axes>"
      ]
     },
     "metadata": {
      "needs_background": "light"
     },
     "output_type": "display_data"
    }
   ],
   "source": [
    "plot_top_words(W, terms, 5,'avb',\"topic_uci_w_o_noise.pdf\")"
   ]
  },
  {
   "cell_type": "markdown",
   "metadata": {},
   "source": [
    "# DP Privacy Training"
   ]
  },
  {
   "cell_type": "code",
   "execution_count": 24,
   "metadata": {},
   "outputs": [],
   "source": [
    "def nmf_privacy_tarining(V,K,training_parameter_private):\n",
    "   \n",
    "    \n",
    "    epoch_num=training_parameter_private[\"epoch_num\"]\n",
    "    topic_num=training_parameter_private[\"topic_num\"]\n",
    "    alpha_W=training_parameter_private[\"alpha_W\"] \n",
    "    alpha_H=training_parameter_private[\"alpha_H\"]\n",
    "\n",
    "    M=training_parameter_private[\"M\"]\n",
    "    eta_H=training_parameter_private[\"eta_H\"]\n",
    "    max_epoch_h=training_parameter_private[\"max_epoch_H\"]\n",
    "    eta_W =training_parameter_private[\"eta_W\"]\n",
    "    max_epoch_W=training_parameter_private[\"max_epoch_W\"] \n",
    "    \n",
    "    epsilon_list=training_parameter_private[\"epsilon_list\"]\n",
    "    delta=training_parameter_private[\"delta\"]\n",
    "    average_num=training_parameter_private[\"average_num\"]\n",
    "    \n",
    "    D=V.shape[0] # Raw data dimension\n",
    "    N=V.shape[1] # Number of documents\n",
    "    \n",
    "    sensitivity=2/N\n",
    "    \n",
    "\n",
    "    loss_privacy=np.zeros((average_num,epoch_num,len(epsilon_list)))\n",
    "    W_store=np.zeros((D,K,len(epsilon_list)))\n",
    "    H_store=np.zeros((K,N,len(epsilon_list)))\n",
    "    \n",
    "\n",
    "    for epsilon_index, epsilon in enumerate((epsilon_list)):\n",
    "        print(f'epsilon: {epsilon}')\n",
    "        for avg_index in range(average_num):\n",
    "            \n",
    "            W,H=initialization(V,K)\n",
    "            \n",
    "#             W=W_old[:,:,epsilon_index]\n",
    "#             H=H_old[:,:,epsilon_index]\n",
    "            \n",
    "            W=my_normalize_matrix_W(W)\n",
    "            H=my_normalize_matrix_W(H)\n",
    "            \n",
    "            At=np.zeros((K,K))\n",
    "            Bt=np.zeros((D,K))\n",
    "\n",
    "\n",
    "            for epoch_idx,epoch in enumerate (tqdm((range (epoch_num)))):\n",
    "                loss_privacy[avg_index,epoch_idx,epsilon_index]=objective_calc(W,H,V)/N\n",
    "\n",
    "              \n",
    "                H=optimize_H_R(W,H,V,N,eta_H,max_epoch_H,alpha_H)\n",
    "\n",
    "                #print(' h @ r optimization is done')\n",
    "\n",
    "                At= (H @ H.T)/N\n",
    "                At_noise=At+call_noise(epsilon,delta,sensitivity,At.shape[0],At.shape[1])\n",
    "                Bt=((V) @ H.T)/N\n",
    "                Bt_noise=Bt+call_noise(epsilon,delta,sensitivity,Bt.shape[0],Bt.shape[1])\n",
    "                W=optimize_W(W,At_noise,Bt_noise,eta_W,max_epoch_W,alpha_W)\n",
    "                \n",
    "                if (epoch==epoch_num-1): # store W for last epoch value \n",
    "                    W_store[:,:,epsilon_index]=W_store[:,:,epsilon_index]+W\n",
    "                    H_store[:,:,epsilon_index]=H_store[:,:,epsilon_index]+H\n",
    "\n",
    "\n",
    "\n",
    "\n",
    "    loss_privacy=loss_privacy.mean(axis=0)\n",
    "    \n",
    "    W_store=W_store/average_num\n",
    "    H_store=H_store/average_num\n",
    "    \n",
    "    return loss_privacy,W_store,H_store\n",
    "\n"
   ]
  },
  {
   "cell_type": "code",
   "execution_count": 25,
   "metadata": {
    "scrolled": true
   },
   "outputs": [
    {
     "name": "stdout",
     "output_type": "stream",
     "text": [
      "epsilon: 0.5\n"
     ]
    },
    {
     "name": "stderr",
     "output_type": "stream",
     "text": [
      "100%|████████████████████████████████████████████████████████████████████████████| 1500/1500 [1:03:20<00:00,  2.53s/it]\n"
     ]
    },
    {
     "name": "stdout",
     "output_type": "stream",
     "text": [
      "epsilon: 0.6\n"
     ]
    },
    {
     "name": "stderr",
     "output_type": "stream",
     "text": [
      "100%|████████████████████████████████████████████████████████████████████████████| 1500/1500 [1:23:37<00:00,  3.34s/it]\n"
     ]
    },
    {
     "name": "stdout",
     "output_type": "stream",
     "text": [
      "epsilon: 0.7\n"
     ]
    },
    {
     "name": "stderr",
     "output_type": "stream",
     "text": [
      "100%|████████████████████████████████████████████████████████████████████████████| 1500/1500 [1:03:41<00:00,  2.55s/it]\n"
     ]
    },
    {
     "name": "stdout",
     "output_type": "stream",
     "text": [
      "epsilon: 0.8\n"
     ]
    },
    {
     "name": "stderr",
     "output_type": "stream",
     "text": [
      "100%|████████████████████████████████████████████████████████████████████████████| 1500/1500 [1:05:05<00:00,  2.60s/it]\n"
     ]
    },
    {
     "name": "stdout",
     "output_type": "stream",
     "text": [
      "epsilon: 0.9\n"
     ]
    },
    {
     "name": "stderr",
     "output_type": "stream",
     "text": [
      "100%|████████████████████████████████████████████████████████████████████████████| 1500/1500 [1:01:27<00:00,  2.46s/it]\n"
     ]
    },
    {
     "name": "stdout",
     "output_type": "stream",
     "text": [
      "epsilon: 0.999\n"
     ]
    },
    {
     "name": "stderr",
     "output_type": "stream",
     "text": [
      "100%|████████████████████████████████████████████████████████████████████████████| 1500/1500 [1:01:24<00:00,  2.46s/it]\n"
     ]
    }
   ],
   "source": [
    "epoch_num=1500\n",
    "topic_num=8\n",
    "average_num=1\n",
    "alpha_W_private=0.0001\n",
    "alpha_H_private=20\n",
    "epsilon_list=[0.5,0.6,0.7,0.8,0.9,0.999]\n",
    "delta = 1e-5\n",
    "\n",
    "training_parameter_private={\"epoch_num\":epoch_num,\n",
    "                   \"alpha_W\":alpha_W_private,\n",
    "                   \"alpha_H\":alpha_H_private,\n",
    "                   \"eta_H\":eta_H,\n",
    "                   \"eta_W\":eta_W,\n",
    "                   \"max_epoch_H\":max_epoch_H,\n",
    "                   \"max_epoch_W\":max_epoch_W,\n",
    "                   \"M\":M,\n",
    "                   \"topic_num\":topic_num,\n",
    "                   \"epsilon_list\":epsilon_list,\n",
    "                   \"delta\":delta,\n",
    "                   \"average_num\":average_num     \n",
    "                   }\n",
    "\n",
    "\n",
    "loss_privacy,W_privacy,H_privacy=nmf_privacy_tarining(A.T,topic_num,training_parameter_private)"
   ]
  },
  {
   "cell_type": "markdown",
   "metadata": {},
   "source": [
    "# Plot the loss graph"
   ]
  },
  {
   "cell_type": "code",
   "execution_count": 26,
   "metadata": {},
   "outputs": [
    {
     "data": {
      "image/png": "[encoded data removed]",
      "text/plain": [
       "<Figure size 576x432 with 1 Axes>"
      ]
     },
     "metadata": {
      "needs_background": "light"
     },
     "output_type": "display_data"
    }
   ],
   "source": [
    "#loss_privacy=loss_privacy.mean(axis=0)\n",
    "\n",
    "\n",
    "plt.figure(figsize=(8,6))\n",
    "\n",
    "for epsilon_index, epsilon in enumerate(epsilon_list):\n",
    "    plt.semilogy(range(len(loss_privacy[:,epsilon_index])),loss_privacy[:,epsilon_index],label=f'w/ privacy with epsilon {epsilon}')\n",
    "    \n",
    "plt.semilogy(range(len(loss[:])),loss[:],label='w/o privacy')\n",
    "plt.xlabel(\"Epoch\")\n",
    "plt.ylabel(\"Objective value\")\n",
    "plt.legend(loc=\"upper right\",fontsize='10')\n",
    "plt.grid(False)\n",
    "plt.show()"
   ]
  },
  {
   "cell_type": "markdown",
   "metadata": {},
   "source": [
    "# Topic Word Private"
   ]
  },
  {
   "cell_type": "code",
   "execution_count": 27,
   "metadata": {},
   "outputs": [],
   "source": [
    "# plot_top_words( W_privacy_store[:,:,0], terms, 5,'avb',\"topic_uci_w_noise.pdf\")"
   ]
  }
 ],
 "metadata": {
  "kernelspec": {
   "display_name": "Python 3",
   "language": "python",
   "name": "python3"
  },
  "language_info": {
   "codemirror_mode": {
    "name": "ipython",
    "version": 3
   },
   "file_extension": ".py",
   "mimetype": "text/x-python",
   "name": "python",
   "nbconvert_exporter": "python",
   "pygments_lexer": "ipython3",
   "version": "3.8.5"
  }
 },
 "nbformat": 4,
 "nbformat_minor": 4
}
